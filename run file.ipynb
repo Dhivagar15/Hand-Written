{
 "cells": [
  {
   "cell_type": "code",
   "execution_count": 54,
   "id": "e6c6622f",
   "metadata": {},
   "outputs": [],
   "source": [
    "import gradio as gr\n",
    "from tensorflow.keras.models import load_model\n",
    "from tensorflow.keras.datasets import mnist\n",
    "import numpy as np\n",
    "import warnings\n",
    "warnings.filterwarnings('ignore')"
   ]
  },
  {
   "cell_type": "code",
   "execution_count": 46,
   "id": "f0fc945e",
   "metadata": {},
   "outputs": [],
   "source": [
    "model = load_model('mnist_cnn_model.h5')"
   ]
  },
  {
   "cell_type": "code",
   "execution_count": 123,
   "id": "a9966ceb",
   "metadata": {},
   "outputs": [],
   "source": [
    "import cv2\n",
    "import numpy as np\n",
    "def predict_digit(image_path):\n",
    "    # Read the image from the file path\n",
    "    image = cv2.imread(image_path, cv2.IMREAD_GRAYSCALE)\n",
    "    \n",
    "    # Resize the image to 28x28\n",
    "    image = cv2.resize(image, (28, 28))\n",
    "    \n",
    "    # Reshape to add a channel dimension\n",
    "    image = image.reshape((28, 28, 1))\n",
    "    \n",
    "    # Convert to numpy array and preprocess\n",
    "    image = np.array(image).astype('float32') / 255.0\n",
    "    \n",
    "    # Expand dimensions to make it compatible with model input shape (1, 28, 28, 1)\n",
    "    image = np.expand_dims(image, axis=0)\n",
    "    \n",
    "    # Make prediction\n",
    "    prediction = model.predict(image)\n",
    "\n",
    "    # Return the predicted label with confidence scores\n",
    "    confidences = {str(i): float(prediction[0][i]) for i in range(10)}\n",
    "    return confidences"
   ]
  },
  {
   "cell_type": "code",
   "execution_count": 124,
   "id": "a2bcd8cb",
   "metadata": {},
   "outputs": [
    {
     "name": "stdout",
     "output_type": "stream",
     "text": [
      "Running on local URL:  http://127.0.0.1:7877\n",
      "\n",
      "Thanks for being a Gradio user! If you have questions or feedback, please join our Discord server and chat with us: https://discord.gg/feTf9x3ZSB\n",
      "IMPORTANT: You are using gradio version 4.26.0, however version 4.29.0 is available, please upgrade.\n",
      "--------\n",
      "\n",
      "To create a public link, set `share=True` in `launch()`.\n"
     ]
    },
    {
     "data": {
      "text/html": [
       "<div><iframe src=\"http://127.0.0.1:7877/\" width=\"100%\" height=\"500\" allow=\"autoplay; camera; microphone; clipboard-read; clipboard-write;\" frameborder=\"0\" allowfullscreen></iframe></div>"
      ],
      "text/plain": [
       "<IPython.core.display.HTML object>"
      ]
     },
     "metadata": {},
     "output_type": "display_data"
    },
    {
     "name": "stdout",
     "output_type": "stream",
     "text": [
      "1/1 [==============================] - 0s 45ms/step\n",
      "1/1 [==============================] - 0s 39ms/step\n"
     ]
    }
   ],
   "source": [
    "interface = gr.Interface(\n",
    "    fn=predict_digit,\n",
    "    inputs=gr.Image(type=\"filepath\"),\n",
    "    outputs=gr.Label(num_top_classes=10)\n",
    ")\n",
    "\n",
    "# Launch the interface\n",
    "if __name__ == \"__main__\":\n",
    "    interface.launch()"
   ]
  },
  {
   "cell_type": "code",
   "execution_count": null,
   "id": "ec51e21c",
   "metadata": {},
   "outputs": [],
   "source": []
  }
 ],
 "metadata": {
  "kernelspec": {
   "display_name": "Python 3 (ipykernel)",
   "language": "python",
   "name": "python3"
  },
  "language_info": {
   "codemirror_mode": {
    "name": "ipython",
    "version": 3
   },
   "file_extension": ".py",
   "mimetype": "text/x-python",
   "name": "python",
   "nbconvert_exporter": "python",
   "pygments_lexer": "ipython3",
   "version": "3.11.1"
  }
 },
 "nbformat": 4,
 "nbformat_minor": 5
}
